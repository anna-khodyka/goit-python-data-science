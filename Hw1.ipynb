{
 "cells": [
  {
   "cell_type": "markdown",
   "id": "78a525dc",
   "metadata": {},
   "source": [
    "ДОМАШНЯЯ РАБОТА № 1 \n",
    "\n",
    "Ходыка Анны"
   ]
  },
  {
   "cell_type": "code",
   "execution_count": 102,
   "id": "eb2db239",
   "metadata": {},
   "outputs": [
    {
     "name": "stdout",
     "output_type": "stream",
     "text": [
      "Requirement already satisfied: numpy in d:\\anaconda\\lib\\site-packages (1.20.3)\n"
     ]
    }
   ],
   "source": [
    "!pip install numpy"
   ]
  },
  {
   "cell_type": "code",
   "execution_count": 6,
   "id": "04a669b7",
   "metadata": {},
   "outputs": [],
   "source": [
    "import numpy as np"
   ]
  },
  {
   "cell_type": "markdown",
   "id": "ea576fff",
   "metadata": {},
   "source": [
    "Задача 1. Вкладчик положил 50000 условных единиц на три разных счета в три разных банка. По первому счету выплаты составят 5% годовых, по второму – 7% годовых и по третьему 6% годовых. Известно, что через год вкладчик получил по процентам сумму в 2250 у.е. с первого и второго банка и сумму в 1400 у.е. с первого и третьего банка. Сколько условных единиц он положил на каждый счет изначально?"
   ]
  },
  {
   "cell_type": "code",
   "execution_count": 20,
   "id": "84c65645",
   "metadata": {},
   "outputs": [
    {
     "data": {
      "text/plain": [
       "array([[1.  , 1.  , 1.  ],\n",
       "       [0.05, 0.07, 0.  ],\n",
       "       [0.05, 0.  , 0.06]])"
      ]
     },
     "execution_count": 20,
     "metadata": {},
     "output_type": "execute_result"
    }
   ],
   "source": [
    "matrix = np.array([[1,1,1],[0.05,0.07,0], [0.05,0,0.06]], float)\n",
    "matrix"
   ]
  },
  {
   "cell_type": "code",
   "execution_count": 21,
   "id": "6ddf66d2",
   "metadata": {},
   "outputs": [
    {
     "data": {
      "text/plain": [
       "array([50000.,  2250.,  1400.])"
      ]
     },
     "execution_count": 21,
     "metadata": {},
     "output_type": "execute_result"
    }
   ],
   "source": [
    "arr=np.array([50000,2250,1400], float)\n",
    "arr"
   ]
  },
  {
   "cell_type": "code",
   "execution_count": 24,
   "id": "df7a3768",
   "metadata": {},
   "outputs": [
    {
     "data": {
      "text/plain": [
       "array([10000., 25000., 15000.])"
      ]
     },
     "execution_count": 24,
     "metadata": {},
     "output_type": "execute_result"
    }
   ],
   "source": [
    "answer = np.linalg.solve(matrix, arr)\n",
    "answer"
   ]
  },
  {
   "cell_type": "markdown",
   "id": "6188ae17",
   "metadata": {},
   "source": [
    "Вкладчик положил:\n",
    "10000 условных единиц на первый счет,\n",
    "25000 условных единиц на второй счет,\n",
    "15000 условных единиц на третий счет.\n",
    "Проверка правильности ответов:\n",
    "10000+25000+15000=50000\n",
    "10000*5%+25000*7% =500+1750=2250 \n",
    "10000*5%+15000*6% = 500+900=1400"
   ]
  },
  {
   "cell_type": "code",
   "execution_count": 31,
   "id": "bf9858ca",
   "metadata": {},
   "outputs": [],
   "source": [
    "assert np.dot(matrix, answer).all() == arr.all()"
   ]
  },
  {
   "cell_type": "markdown",
   "id": "cb19d0dc",
   "metadata": {},
   "source": [
    "Задача 2. На складе хранятся мобильные телефоны iPhone 6, iPhone 11, iPhone 12 моделей. Всего 1328 экземпляра. Моделей iPhone 6 на 120 меньше, чем моделей iPhone 11, и на 100 больше, чем моделей iPhone 12. Сколько моделей каждого вида на складе?"
   ]
  },
  {
   "cell_type": "code",
   "execution_count": 33,
   "id": "1dfb4f6b",
   "metadata": {},
   "outputs": [
    {
     "data": {
      "text/plain": [
       "array([[ 1.,  1.,  1.],\n",
       "       [-1.,  1.,  0.],\n",
       "       [ 1.,  0., -1.]])"
      ]
     },
     "execution_count": 33,
     "metadata": {},
     "output_type": "execute_result"
    }
   ],
   "source": [
    "phones_matrix = np.array([[1,1,1],[-1,1,0],[1,0,-1]], float)\n",
    "phones_matrix"
   ]
  },
  {
   "cell_type": "code",
   "execution_count": 34,
   "id": "efd403ed",
   "metadata": {},
   "outputs": [
    {
     "data": {
      "text/plain": [
       "array([1328.,  120.,  100.])"
      ]
     },
     "execution_count": 34,
     "metadata": {},
     "output_type": "execute_result"
    }
   ],
   "source": [
    "phones_b=np.array([1328,120,100], float)\n",
    "phones_b"
   ]
  },
  {
   "cell_type": "code",
   "execution_count": 35,
   "id": "ac169dd5",
   "metadata": {},
   "outputs": [
    {
     "data": {
      "text/plain": [
       "array([436., 556., 336.])"
      ]
     },
     "execution_count": 35,
     "metadata": {},
     "output_type": "execute_result"
    }
   ],
   "source": [
    "phones_answer = np.linalg.solve(phones_matrix, phones_b)\n",
    "phones_answer "
   ]
  },
  {
   "cell_type": "markdown",
   "id": "f855da15",
   "metadata": {},
   "source": [
    "На складе хранятся мобильные телефоны iPhone 6 - 436 штук, iPhone 11 - 556 штук, iPhone 12 моделей - 336 штук.\n",
    "Проверка:"
   ]
  },
  {
   "cell_type": "code",
   "execution_count": 36,
   "id": "777ab912",
   "metadata": {},
   "outputs": [],
   "source": [
    "assert np.dot(phones_matrix, phones_answer).all() == phones_b.all()"
   ]
  },
  {
   "cell_type": "markdown",
   "id": "bbedcc94",
   "metadata": {},
   "source": [
    "Задача 3. Составьте каноническое уравнение эллипсоида, проходящего через три точки A,B,C"
   ]
  },
  {
   "cell_type": "code",
   "execution_count": 120,
   "id": "69e0302c",
   "metadata": {},
   "outputs": [
    {
     "data": {
      "text/plain": [
       "array([3.46410162, 0.70710678, 2.        ])"
      ]
     },
     "execution_count": 120,
     "metadata": {},
     "output_type": "execute_result"
    }
   ],
   "source": [
    "elipsoid_matrix = np.array([[3,0,3], [6,1/4,0],[1,1/3,1]])\n",
    "elipsoid_b=np.array([1,1,1])\n",
    "elipsoid_answer = np.linalg.solve(elipsoid_matrix, elipsoid_b)\n",
    "elipsoid_coef = (1/elipsoid_answer)**0.5\n",
    "elipsoid_coef"
   ]
  },
  {
   "cell_type": "code",
   "execution_count": 126,
   "id": "6329c099",
   "metadata": {},
   "outputs": [],
   "source": [
    "# проверка\n",
    "x = 3**0.5\n",
    "y=0\n",
    "z=3**0.5\n",
    "assert round(x**2/(3.46410162**2)+y**2/(0.70710678**2)+z**2/(2**2), 2) ==1\n",
    "x = 6**0.5\n",
    "y=1/2\n",
    "z=0\n",
    "assert round(x**2/(3.46410162**2)+y**2/(0.70710678**2)+z**2/(2**2), 2) ==1\n",
    "x = 1\n",
    "y=1/(3**0.5)\n",
    "z=1\n",
    "assert round(x**2/(3.46410162**2)+y**2/(0.70710678**2)+z**2/(2**2), 2) ==1"
   ]
  },
  {
   "cell_type": "markdown",
   "id": "5e4f01d1",
   "metadata": {},
   "source": [
    "Задача 4. Составьте уравнение параболы проходящей через заданные три точки (1,12), (3,54), (-1,2). Необходимо найти коэффициенты уравнения a,b,c\n",
    "y=a⋅x^2+b⋅x+c"
   ]
  },
  {
   "cell_type": "markdown",
   "id": "9bde6a85",
   "metadata": {},
   "source": [
    "Подставляю координаты 3 точек в уравнение, получаю СЛАУ с неизвестными a,b,c:"
   ]
  },
  {
   "cell_type": "code",
   "execution_count": 38,
   "id": "3d2b26b7",
   "metadata": {},
   "outputs": [
    {
     "data": {
      "text/plain": [
       "array([[ 1.,  1.,  1.],\n",
       "       [ 9.,  3.,  1.],\n",
       "       [ 1., -1.,  1.]])"
      ]
     },
     "execution_count": 38,
     "metadata": {},
     "output_type": "execute_result"
    }
   ],
   "source": [
    "parabola_matrix = np.array([[1,1,1],[9,3,1],[1,-1,1]], float)\n",
    "parabola_matrix"
   ]
  },
  {
   "cell_type": "code",
   "execution_count": 40,
   "id": "1fe6b1b6",
   "metadata": {},
   "outputs": [
    {
     "data": {
      "text/plain": [
       "array([12., 54.,  2.])"
      ]
     },
     "execution_count": 40,
     "metadata": {},
     "output_type": "execute_result"
    }
   ],
   "source": [
    "parabola_b = np.array([12,54,2], float)\n",
    "parabola_b"
   ]
  },
  {
   "cell_type": "code",
   "execution_count": 42,
   "id": "8e105e39",
   "metadata": {},
   "outputs": [
    {
     "data": {
      "text/plain": [
       "array([4., 5., 3.])"
      ]
     },
     "execution_count": 42,
     "metadata": {},
     "output_type": "execute_result"
    }
   ],
   "source": [
    "parabola_answer = np.linalg.solve(parabola_matrix, parabola_b)\n",
    "parabola_answer"
   ]
  },
  {
   "cell_type": "markdown",
   "id": "93176648",
   "metadata": {},
   "source": [
    "Уравнение 4x^2+5x+3=y\n",
    "\n",
    "Проверка:"
   ]
  },
  {
   "cell_type": "code",
   "execution_count": 43,
   "id": "7f2da8f3",
   "metadata": {},
   "outputs": [],
   "source": [
    "assert np.dot(parabola_matrix, parabola_answer).all() == parabola_b.all()"
   ]
  },
  {
   "cell_type": "markdown",
   "id": "db0b432a",
   "metadata": {},
   "source": [
    "Задача 5. Составьте функцию get_polynom, которая по набору точек вида будет находить коэффициенты многочлена. Таким образом функция принимает список кортежей с координатами и возвращает набор коэффициентов"
   ]
  },
  {
   "cell_type": "code",
   "execution_count": 128,
   "id": "5d87c268",
   "metadata": {},
   "outputs": [],
   "source": [
    "import numpy as np\n",
    "\n",
    "\n",
    "def get_polynom(coords):\n",
    "    n = len(coords)-1\n",
    "    \n",
    "    xy=np.array(coords)\n",
    "    # присваеваем b - вектор из y\n",
    "    b=xy[:, 1]\n",
    "    x=xy[:, 0]\n",
    "    x= x[:, np.newaxis]\n",
    "    # формируем а - матрица из x в степени от 0 до n\n",
    "    a=x**0\n",
    "    for i in range(1,n+1):\n",
    "        a= np.concatenate((a, x**i),axis=1)\n",
    "    \n",
    "    return np.linalg.solve(a, b)"
   ]
  },
  {
   "cell_type": "code",
   "execution_count": 129,
   "id": "878acf49",
   "metadata": {},
   "outputs": [
    {
     "data": {
      "text/plain": [
       "array([1., 2., 1.])"
      ]
     },
     "execution_count": 129,
     "metadata": {},
     "output_type": "execute_result"
    }
   ],
   "source": [
    "get_polynom([(1,4), (0,1), (10, 121)])"
   ]
  },
  {
   "cell_type": "markdown",
   "id": "5e5b68e1",
   "metadata": {},
   "source": [
    "ВТОРОЙ СПОСОБ: формирование a и b с помощью циклов for"
   ]
  },
  {
   "cell_type": "code",
   "execution_count": 100,
   "id": "cff7f5d4",
   "metadata": {},
   "outputs": [],
   "source": [
    "import numpy as np\n",
    "\n",
    "\n",
    "def get_polynom(coords):\n",
    "    n = len(coords)-1\n",
    "    list_for_a = []\n",
    "    list_for_b = []\n",
    "    \n",
    "    for x, y in coords:\n",
    "        list_for_b.append(y)\n",
    "        x_list = []\n",
    "        for i in range(n+1):\n",
    "            x_list.append(x**i)\n",
    "        list_for_a. append(x_list)    \n",
    "    \n",
    "    a = np.array(list_for_a)\n",
    "    b = np.array(list_for_b)\n",
    "    \n",
    "    return np.linalg.solve(a, b)"
   ]
  },
  {
   "cell_type": "code",
   "execution_count": 131,
   "id": "b12726be",
   "metadata": {},
   "outputs": [
    {
     "data": {
      "text/plain": [
       "array([1., 2., 1.])"
      ]
     },
     "execution_count": 131,
     "metadata": {},
     "output_type": "execute_result"
    }
   ],
   "source": [
    "get_polynom([(1,4), (0,1), (10, 121)])"
   ]
  }
 ],
 "metadata": {
  "kernelspec": {
   "display_name": "Python 3 (ipykernel)",
   "language": "python",
   "name": "python3"
  },
  "language_info": {
   "codemirror_mode": {
    "name": "ipython",
    "version": 3
   },
   "file_extension": ".py",
   "mimetype": "text/x-python",
   "name": "python",
   "nbconvert_exporter": "python",
   "pygments_lexer": "ipython3",
   "version": "3.9.7"
  }
 },
 "nbformat": 4,
 "nbformat_minor": 5
}
