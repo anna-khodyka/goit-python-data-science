{
 "cells": [
  {
   "cell_type": "markdown",
   "id": "5a9dd102",
   "metadata": {},
   "source": [
    "ДОМАШНЯЯ РАБОТА №5\n",
    "Ходыка Анна\n",
    "Задание 1"
   ]
  },
  {
   "cell_type": "markdown",
   "id": "2d4afd73",
   "metadata": {},
   "source": [
    "Для прямоугольной области площадью 1000 м2, примыкающей к прямому участку реки, необходимо построить ограду (причем со стороны реки ограду строить не нужно). При каких размерах области a, b длина ограды будет минимальной? Используйте функцию minimize с параметрами ограничениями bounds и constraints"
   ]
  },
  {
   "cell_type": "code",
   "execution_count": 2,
   "id": "15ba9249",
   "metadata": {},
   "outputs": [],
   "source": [
    "from scipy.optimize import minimize"
   ]
  },
  {
   "cell_type": "code",
   "execution_count": 6,
   "id": "176d8cb0",
   "metadata": {},
   "outputs": [
    {
     "data": {
      "text/plain": [
       "     fun: 89.44271909263303\n",
       "     jac: array([2., 1.])\n",
       " message: 'Optimization terminated successfully'\n",
       "    nfev: 53\n",
       "     nit: 16\n",
       "    njev: 16\n",
       "  status: 0\n",
       " success: True\n",
       "       x: array([22.36067906, 44.72136098])"
      ]
     },
     "execution_count": 6,
     "metadata": {},
     "output_type": "execute_result"
    }
   ],
   "source": [
    "def fence_lenth(arg):\n",
    "    a, b = arg\n",
    "    return 2*a+b\n",
    "\n",
    "cons = ({'type': 'eq', 'fun': lambda x:  x[0] * x[1] - 1000})\n",
    "\n",
    "result = minimize(fence_lenth, [1, 5], constraints=cons)\n",
    "result"
   ]
  },
  {
   "cell_type": "markdown",
   "id": "04b91497",
   "metadata": {},
   "source": [
    "ОТВЕТ: Прямоугольная область, примыкающая к реке должна иметь размеры 22,36m*44,72m и площадь 1000 м. Тогда длина забора будет 89,44m"
   ]
  }
 ],
 "metadata": {
  "kernelspec": {
   "display_name": "Python 3 (ipykernel)",
   "language": "python",
   "name": "python3"
  },
  "language_info": {
   "codemirror_mode": {
    "name": "ipython",
    "version": 3
   },
   "file_extension": ".py",
   "mimetype": "text/x-python",
   "name": "python",
   "nbconvert_exporter": "python",
   "pygments_lexer": "ipython3",
   "version": "3.9.7"
  }
 },
 "nbformat": 4,
 "nbformat_minor": 5
}
