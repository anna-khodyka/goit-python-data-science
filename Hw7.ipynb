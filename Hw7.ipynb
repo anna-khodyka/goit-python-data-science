{
 "cells": [
  {
   "cell_type": "markdown",
   "id": "5a9dd102",
   "metadata": {},
   "source": [
    "ДОМАШНЯЯ РАБОТА №7\n",
    "Ходыка Анна"
   ]
  },
  {
   "cell_type": "markdown",
   "id": "69f0a243",
   "metadata": {},
   "source": [
    "Задание 1"
   ]
  },
  {
   "cell_type": "markdown",
   "id": "6c41dd57",
   "metadata": {},
   "source": [
    "Загрузите датасет выполнив следующий код"
   ]
  },
  {
   "cell_type": "code",
   "execution_count": 62,
   "id": "e4efa8bb",
   "metadata": {},
   "outputs": [],
   "source": [
    "from sklearn.model_selection import train_test_split"
   ]
  },
  {
   "cell_type": "code",
   "execution_count": 63,
   "id": "37bc2c2e",
   "metadata": {},
   "outputs": [],
   "source": [
    "from sklearn.datasets import load_wine\n",
    "\n",
    "wine_dataset = load_wine()"
   ]
  },
  {
   "cell_type": "markdown",
   "id": "c186e861",
   "metadata": {},
   "source": [
    "Изучаю как работать с sklearn датасетом:"
   ]
  },
  {
   "cell_type": "code",
   "execution_count": 64,
   "id": "d82fbd5e",
   "metadata": {},
   "outputs": [
    {
     "data": {
      "text/plain": [
       "numpy.ndarray"
      ]
     },
     "execution_count": 64,
     "metadata": {},
     "output_type": "execute_result"
    }
   ],
   "source": [
    "type(wine_dataset.data)\n",
    "type(wine_dataset.target)"
   ]
  },
  {
   "cell_type": "code",
   "execution_count": 65,
   "id": "5a1e14e2",
   "metadata": {},
   "outputs": [
    {
     "name": "stdout",
     "output_type": "stream",
     "text": [
      "X.shape =  (178, 13)\n",
      "y.shape =  (178,)\n"
     ]
    }
   ],
   "source": [
    "X, y = load_wine(return_X_y=True)\n",
    "print(\"X.shape = \", X.shape)\n",
    "print(\"y.shape = \", y.shape)"
   ]
  },
  {
   "cell_type": "code",
   "execution_count": 66,
   "id": "039ec6ef",
   "metadata": {},
   "outputs": [],
   "source": [
    "assert (X==wine_dataset.data).all()\n",
    "assert (y==wine_dataset.target).all()"
   ]
  },
  {
   "cell_type": "code",
   "execution_count": 67,
   "id": "eec67d37",
   "metadata": {},
   "outputs": [
    {
     "name": "stdout",
     "output_type": "stream",
     "text": [
      "Feature_names:  ['alcohol', 'malic_acid', 'ash', 'alcalinity_of_ash', 'magnesium', 'total_phenols', 'flavanoids', 'nonflavanoid_phenols', 'proanthocyanins', 'color_intensity', 'hue', 'od280/od315_of_diluted_wines', 'proline']\n",
      "Target_names:  ['class_0' 'class_1' 'class_2']\n"
     ]
    }
   ],
   "source": [
    "# wine_dataset.DESCR\n",
    "print(\"Feature_names: \" ,wine_dataset.feature_names)\n",
    "print(\"Target_names: \" ,wine_dataset.target_names)"
   ]
  },
  {
   "cell_type": "markdown",
   "id": "17c53917",
   "metadata": {},
   "source": [
    "Разделите wine_dataset на обучающую и тестовую выборки с помощью train_test_split"
   ]
  },
  {
   "cell_type": "code",
   "execution_count": 68,
   "id": "70e7170a",
   "metadata": {
    "scrolled": false
   },
   "outputs": [
    {
     "data": {
      "text/plain": [
       "(133, 13)"
      ]
     },
     "execution_count": 68,
     "metadata": {},
     "output_type": "execute_result"
    }
   ],
   "source": [
    "X_train, X_test, y_train, y_test = train_test_split(X, y, shuffle=True, test_size=0.25, random_state=777) \n",
    "\n",
    "# проверка как разбилась выборка\n",
    "X_train.shape"
   ]
  },
  {
   "cell_type": "markdown",
   "id": "4dcaa4b5",
   "metadata": {},
   "source": [
    "Обучите модель на тренировочной выборке и оцените ее качество на тестовой."
   ]
  },
  {
   "cell_type": "code",
   "execution_count": 69,
   "id": "f0d02cb9",
   "metadata": {
    "scrolled": true
   },
   "outputs": [
    {
     "data": {
      "text/plain": [
       "0.9777777777777777"
      ]
     },
     "execution_count": 69,
     "metadata": {},
     "output_type": "execute_result"
    }
   ],
   "source": [
    "from sklearn.linear_model import RidgeClassifier\n",
    "wine_clf = RidgeClassifier().fit(X_train, y_train)\n",
    "\n",
    "wine_clf.score(X_test, y_test)"
   ]
  },
  {
   "cell_type": "code",
   "execution_count": 70,
   "id": "aed81932",
   "metadata": {
    "scrolled": true
   },
   "outputs": [
    {
     "data": {
      "text/plain": [
       "array([0, 0, 2, 1, 0, 0, 1, 0, 1, 2, 2, 2, 0, 1, 2, 2, 2, 1, 1, 1, 1, 1,\n",
       "       1, 1, 0, 0, 2, 0, 2, 1, 1, 0, 2, 1, 1, 0, 0, 2, 2, 2, 1, 0, 0, 0,\n",
       "       0])"
      ]
     },
     "execution_count": 70,
     "metadata": {},
     "output_type": "execute_result"
    }
   ],
   "source": [
    "# прогнозирую с помощью модели\n",
    "wine_clf.predict(X_test)"
   ]
  },
  {
   "cell_type": "markdown",
   "id": "6946f543",
   "metadata": {},
   "source": [
    "Попробуйте повторить шаги 3 и 4 разбив датасет на обучающую и тестовую выборки в какой-то собственной пропорции. Как это отразилось на качестве модели?"
   ]
  },
  {
   "cell_type": "code",
   "execution_count": 71,
   "id": "78f8ec14",
   "metadata": {},
   "outputs": [
    {
     "data": {
      "text/plain": [
       "0.9661016949152542"
      ]
     },
     "execution_count": 71,
     "metadata": {},
     "output_type": "execute_result"
    }
   ],
   "source": [
    "X_train, X_test, y_train, y_test = train_test_split(X, y, shuffle=True, test_size=0.33, random_state=8) \n",
    "wine_clf2 = RidgeClassifier().fit(X_train, y_train)\n",
    "wine_clf2.score(X_test, y_test)"
   ]
  },
  {
   "cell_type": "code",
   "execution_count": 108,
   "id": "828a12f0",
   "metadata": {},
   "outputs": [
    {
     "data": {
      "text/plain": [
       "0.9722222222222222"
      ]
     },
     "execution_count": 108,
     "metadata": {},
     "output_type": "execute_result"
    }
   ],
   "source": [
    "X_train3, X_test3, y_train3, y_test3 = train_test_split(X, y, shuffle=True, test_size=0.2) \n",
    "wine_clf_3 = RidgeClassifier().fit(X_train3, y_train3)\n",
    "wine_clf_3.score(X_test3, y_test3)"
   ]
  },
  {
   "cell_type": "markdown",
   "id": "b38e56f8",
   "metadata": {},
   "source": [
    "ВЫВОД: размер тестовой выборки 0,25 - оптимальный"
   ]
  },
  {
   "cell_type": "markdown",
   "id": "a364cde7",
   "metadata": {},
   "source": [
    "Задание 2"
   ]
  },
  {
   "cell_type": "markdown",
   "id": "ca09f682",
   "metadata": {},
   "source": [
    "Постройте линейный классификатор подобно тому, как мы это делали в задании 1 на датасете Ириса Фишера."
   ]
  },
  {
   "cell_type": "code",
   "execution_count": 115,
   "id": "0403ba3a",
   "metadata": {},
   "outputs": [],
   "source": [
    "from sklearn.datasets import load_iris\n",
    "\n",
    "iris = load_iris()\n",
    "iris_X, iris_y = load_iris(return_X_y=True)"
   ]
  },
  {
   "cell_type": "code",
   "execution_count": 117,
   "id": "d435ea7e",
   "metadata": {},
   "outputs": [
    {
     "data": {
      "text/plain": [
       "array(['setosa', 'versicolor', 'virginica'], dtype='<U10')"
      ]
     },
     "execution_count": 117,
     "metadata": {},
     "output_type": "execute_result"
    }
   ],
   "source": [
    "iris_X.shape\n",
    "iris.target_names"
   ]
  },
  {
   "cell_type": "code",
   "execution_count": 154,
   "id": "a2430818",
   "metadata": {},
   "outputs": [
    {
     "data": {
      "text/plain": [
       "0.8947368421052632"
      ]
     },
     "execution_count": 154,
     "metadata": {},
     "output_type": "execute_result"
    }
   ],
   "source": [
    "X_train, X_test, y_train, y_test = train_test_split(iris_X, iris_y, shuffle=True, test_size=0.25) \n",
    "iris_clf = RidgeClassifier().fit(X_train, y_train)\n",
    "iris_clf.score(X_test, y_test)"
   ]
  },
  {
   "cell_type": "code",
   "execution_count": 157,
   "id": "235afcd4",
   "metadata": {},
   "outputs": [
    {
     "data": {
      "text/plain": [
       "0.8695652173913043"
      ]
     },
     "execution_count": 157,
     "metadata": {},
     "output_type": "execute_result"
    }
   ],
   "source": [
    "X_train, X_test, y_train, y_test = train_test_split(iris_X, iris_y, shuffle=True, test_size=0.15) \n",
    "iris_clf2 = RidgeClassifier().fit(X_train, y_train)\n",
    "iris_clf2.score(X_test, y_test)"
   ]
  },
  {
   "cell_type": "markdown",
   "id": "81de559d",
   "metadata": {},
   "source": [
    "Задание 3"
   ]
  },
  {
   "cell_type": "markdown",
   "id": "750fb301",
   "metadata": {},
   "source": [
    "В этом задании нам предстоит построить линейный регрессор.\n",
    "Загрузите датасет  с данными о заболевании диабетом."
   ]
  },
  {
   "cell_type": "code",
   "execution_count": 159,
   "id": "32e5ec4b",
   "metadata": {},
   "outputs": [],
   "source": [
    "from sklearn.datasets import load_diabetes\n",
    "\n",
    "diabetes = load_diabetes()\n",
    "diabetes_X, diabetes_y = load_diabetes(return_X_y=True)"
   ]
  },
  {
   "cell_type": "code",
   "execution_count": 165,
   "id": "948ae72c",
   "metadata": {},
   "outputs": [
    {
     "data": {
      "text/plain": [
       "['age', 'sex', 'bmi', 'bp', 's1', 's2', 's3', 's4', 's5', 's6']"
      ]
     },
     "execution_count": 165,
     "metadata": {},
     "output_type": "execute_result"
    }
   ],
   "source": [
    "diabetes_X.shape\n",
    "diabetes.target\n",
    "diabetes.feature_names"
   ]
  },
  {
   "cell_type": "markdown",
   "id": "2d8fcddf",
   "metadata": {},
   "source": [
    "Разделите его на тренировочную и тестовую выборки."
   ]
  },
  {
   "cell_type": "code",
   "execution_count": 187,
   "id": "1a959c79",
   "metadata": {},
   "outputs": [],
   "source": [
    "X_train, X_test, y_train, y_test = train_test_split(diabetes_X, diabetes_y, shuffle=True, test_size=0.25)"
   ]
  },
  {
   "cell_type": "markdown",
   "id": "09236144",
   "metadata": {},
   "source": [
    "На тренировочной выборке обучите линейную модель. Оцените ее качество на тестовой выборке."
   ]
  },
  {
   "cell_type": "code",
   "execution_count": 188,
   "id": "70080c8d",
   "metadata": {},
   "outputs": [
    {
     "data": {
      "text/plain": [
       "0.4392525245801192"
      ]
     },
     "execution_count": 188,
     "metadata": {},
     "output_type": "execute_result"
    }
   ],
   "source": [
    "from sklearn.linear_model import LinearRegression\n",
    "regressor = LinearRegression(normalize=True).fit(X_train, y_train)\n",
    "\n",
    "regressor.predict(X_test)\n",
    "\n",
    "regressor.score(X_test, y_test)"
   ]
  },
  {
   "cell_type": "markdown",
   "id": "b26379c0",
   "metadata": {},
   "source": [
    "Попробуйте повторить шаги 1-4 разбив датасет на обучающую и тестовую выборки в какой-то собственной пропорции. Как это отразилось на качестве модели?"
   ]
  },
  {
   "cell_type": "code",
   "execution_count": 205,
   "id": "58f26db4",
   "metadata": {},
   "outputs": [
    {
     "data": {
      "text/plain": [
       "0.45557731201185336"
      ]
     },
     "execution_count": 205,
     "metadata": {},
     "output_type": "execute_result"
    }
   ],
   "source": [
    "X_train, X_test, y_train, y_test = train_test_split(diabetes_X, diabetes_y, shuffle=True, test_size=0.35)\n",
    "regressor2 = LinearRegression(normalize=True).fit(X_train, y_train)\n",
    "regressor2.score(X_test, y_test)"
   ]
  },
  {
   "cell_type": "code",
   "execution_count": 206,
   "id": "a55b9767",
   "metadata": {},
   "outputs": [
    {
     "data": {
      "text/plain": [
       "0.5248642906604755"
      ]
     },
     "execution_count": 206,
     "metadata": {},
     "output_type": "execute_result"
    }
   ],
   "source": [
    "X_train, X_test, y_train, y_test = train_test_split(diabetes_X, diabetes_y, shuffle=True, test_size=0.15)\n",
    "regressor3 = LinearRegression(normalize=True).fit(X_train, y_train)\n",
    "regressor3.score(X_test, y_test)"
   ]
  },
  {
   "cell_type": "markdown",
   "id": "eb00393f",
   "metadata": {},
   "source": [
    "При меньшей/большей тестовой выборке увеличисля коэффициент детерминации, то есть точность уменьшилась"
   ]
  }
 ],
 "metadata": {
  "kernelspec": {
   "display_name": "Python 3 (ipykernel)",
   "language": "python",
   "name": "python3"
  },
  "language_info": {
   "codemirror_mode": {
    "name": "ipython",
    "version": 3
   },
   "file_extension": ".py",
   "mimetype": "text/x-python",
   "name": "python",
   "nbconvert_exporter": "python",
   "pygments_lexer": "ipython3",
   "version": "3.9.7"
  }
 },
 "nbformat": 4,
 "nbformat_minor": 5
}
