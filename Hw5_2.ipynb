{
 "cells": [
  {
   "cell_type": "markdown",
   "id": "dc6f00be",
   "metadata": {},
   "source": [
    "ДОМАШНЯЯ РАБОТА №5\n",
    "\n",
    "Задание 2\n",
    "\n",
    "Ходыка Анна"
   ]
  },
  {
   "cell_type": "code",
   "execution_count": 32,
   "id": "ec8db158",
   "metadata": {},
   "outputs": [],
   "source": [
    "import numpy as np\n",
    "import matplotlib.pyplot as plt\n",
    "\n",
    "from scipy import integrate\n",
    "from scipy.integrate import solve_ivp\n",
    "from scipy.interpolate import interp1d\n",
    "from scipy.optimize import leastsq, curve_fit, minimize_scalar\n"
   ]
  },
  {
   "cell_type": "code",
   "execution_count": 6,
   "id": "e39fefa4",
   "metadata": {},
   "outputs": [],
   "source": [
    "alpha=0.5 #коэффициент заболеваемости\n",
    "beta = 0.3 #коэффициент выздоровления\n",
    "N=1000000\n",
    "S0=990000\n",
    "I0 = 7000\n",
    "R0 = 3000\n",
    "t0=0\n",
    "tf=25"
   ]
  },
  {
   "cell_type": "markdown",
   "id": "9f359ae5",
   "metadata": {},
   "source": [
    "Решить дифференциальное уравнение (2) и построить график функции S(t)S(t)"
   ]
  },
  {
   "cell_type": "code",
   "execution_count": 8,
   "id": "671eab12",
   "metadata": {
    "scrolled": false
   },
   "outputs": [
    {
     "name": "stdout",
     "output_type": "stream",
     "text": [
      "  message: 'The solver successfully reached the end of the integration interval.'\n",
      "     nfev: 98\n",
      "     njev: 0\n",
      "      nlu: 0\n",
      "      sol: <scipy.integrate._ivp.common.OdeSolution object at 0x000001A0EBA36520>\n",
      "   status: 0\n",
      "  success: True\n",
      "        t: array([ 0.        ,  0.11486984,  1.26356819,  3.06043758,  4.8157449 ,\n",
      "        6.57363058,  8.33135596, 10.08909132, 11.84682607, 13.60456089,\n",
      "       15.36229578, 17.12003086, 18.87776637, 20.63550293, 22.39324202,\n",
      "       24.15098721, 25.        ])\n",
      " t_events: None\n",
      "        y: array([[9.90000000e+05, 9.34741505e+05, 5.26338915e+05, 2.14449863e+05,\n",
      "        8.92016780e+04, 3.70563463e+04, 1.53952532e+04, 6.39600686e+03,\n",
      "        2.65724217e+03, 1.10395999e+03, 4.58643792e+02, 1.90545047e+02,\n",
      "        7.91625391e+01, 3.28883086e+01, 1.36635268e+01, 5.67652784e+00,\n",
      "        3.71298656e+00]])\n",
      " y_events: None\n"
     ]
    },
    {
     "data": {
      "image/png": "[encoded data removed]",
      "text/plain": [
       "<Figure size 432x288 with 1 Axes>"
      ]
     },
     "metadata": {
      "needs_background": "light"
     },
     "output_type": "display_data"
    }
   ],
   "source": [
    "def dSdt(t, S):\n",
    "    return -1*alpha*S\n",
    "\n",
    "S_soln = solve_ivp(dSdt, (t0, tf), [S0], dense_output=True)\n",
    "print(S_soln)\n",
    "\n",
    "t, S = S_soln.t, S_soln.y[0]\n",
    "S_interp, = S_soln.sol(t)\n",
    "\n",
    "plt.plot(t, S, 'o', color='b', label='S solve_ivp')\n",
    "plt.plot(t, S_interp, color='blue', label='S interpolation')\n",
    "plt.legend()\n",
    "plt.show()"
   ]
  },
  {
   "cell_type": "markdown",
   "id": "f1a07ad5",
   "metadata": {},
   "source": [
    "Mетодом наименьших квадратов для набора данных графика функции S(t)S(t) получить уравнение вида S(t)=S_0e^{-\\alpha t}S(t)=S \n",
    "0*e**−αt"
   ]
  },
  {
   "cell_type": "code",
   "execution_count": 9,
   "id": "41faaed8",
   "metadata": {
    "scrolled": true
   },
   "outputs": [
    {
     "data": {
      "text/plain": [
       "(array([ 0.        ,  0.11486984,  1.26356819,  3.06043758,  4.8157449 ,\n",
       "         6.57363058,  8.33135596, 10.08909132, 11.84682607, 13.60456089,\n",
       "        15.36229578, 17.12003086, 18.87776637, 20.63550293, 22.39324202,\n",
       "        24.15098721, 25.        ]),\n",
       " array([9.90000000e+05, 9.34741505e+05, 5.26338915e+05, 2.14449863e+05,\n",
       "        8.92016780e+04, 3.70563463e+04, 1.53952532e+04, 6.39600686e+03,\n",
       "        2.65724217e+03, 1.10395999e+03, 4.58643792e+02, 1.90545047e+02,\n",
       "        7.91625391e+01, 3.28883086e+01, 1.36635268e+01, 5.67652784e+00,\n",
       "        3.71298656e+00]))"
      ]
     },
     "execution_count": 9,
     "metadata": {},
     "output_type": "execute_result"
    }
   ],
   "source": [
    "t, S"
   ]
  },
  {
   "cell_type": "code",
   "execution_count": 10,
   "id": "16d8843c",
   "metadata": {},
   "outputs": [],
   "source": [
    "def S_func(t, S_koef, alpha_koef):\n",
    "    return S_koef*np.exp(-alpha_koef*t)\n",
    "\n",
    "def diff(p, S, t):\n",
    "    S_koef, alpha_koef = p\n",
    "    return S - S_func(t, S_koef, alpha_koef)"
   ]
  },
  {
   "cell_type": "code",
   "execution_count": 11,
   "id": "639a475a",
   "metadata": {
    "scrolled": false
   },
   "outputs": [
    {
     "data": {
      "text/plain": [
       "array([9.89978640e+05, 4.99856001e-01])"
      ]
     },
     "execution_count": 11,
     "metadata": {},
     "output_type": "execute_result"
    }
   ],
   "source": [
    "p0 = (900000, 0.4)\n",
    "aprx, _ = leastsq(diff, p0, args=(S, t))\n",
    "aprx"
   ]
  },
  {
   "cell_type": "markdown",
   "id": "074395b6",
   "metadata": {},
   "source": [
    "ОТВЕТ\n",
    "\n",
    "S(t)=9.89978640e+05 * np.exp(-4.99856001e-01 * t)\n",
    "\n",
    "ПРОВЕРКА:"
   ]
  },
  {
   "cell_type": "code",
   "execution_count": 12,
   "id": "1a787cca",
   "metadata": {
    "scrolled": false
   },
   "outputs": [
    {
     "data": {
      "text/plain": [
       "array([-2.13600000e+01, -4.70628065e+00,  7.15306780e+01, -3.66030577e+01,\n",
       "       -3.52699574e+01, -2.31512237e+01, -1.31440494e+01, -6.92530302e+00,\n",
       "       -3.48545638e+00, -1.70071357e+00, -8.11515292e-01, -3.80737824e-01,\n",
       "       -1.76284728e-01, -8.07585370e-02, -3.66750980e-02, -1.65342508e-02,\n",
       "       -1.03741717e-02])"
      ]
     },
     "execution_count": 12,
     "metadata": {},
     "output_type": "execute_result"
    }
   ],
   "source": [
    "St=9.89978640e+05 * np.exp(-4.99856001e-01 * t)\n",
    "St-S"
   ]
  },
  {
   "cell_type": "code",
   "execution_count": 13,
   "id": "bdf6da00",
   "metadata": {},
   "outputs": [
    {
     "data": {
      "image/png": "[encoded data removed]",
      "text/plain": [
       "<Figure size 432x288 with 1 Axes>"
      ]
     },
     "metadata": {
      "needs_background": "light"
     },
     "output_type": "display_data"
    }
   ],
   "source": [
    "plt.plot(t, S, 'o', color='b', label='S solve_ivp')\n",
    "plt.plot(t, S_interp, color='blue', label='S interpolation')\n",
    "plt.plot(t, St, color='red', label='S(t)')\n",
    "plt.legend()\n",
    "plt.show()"
   ]
  },
  {
   "cell_type": "markdown",
   "id": "ad8eee82",
   "metadata": {},
   "source": [
    "Решить дифференциальное уравнение (3) и построить график функции I(t)"
   ]
  },
  {
   "cell_type": "code",
   "execution_count": 14,
   "id": "a8b20bb9",
   "metadata": {
    "scrolled": false
   },
   "outputs": [
    {
     "name": "stdout",
     "output_type": "stream",
     "text": [
      "  message: 'The solver successfully reached the end of the integration interval.'\n",
      "     nfev: 80\n",
      "     njev: 0\n",
      "      nlu: 0\n",
      "      sol: <scipy.integrate._ivp.common.OdeSolution object at 0x000001A0EC2B09A0>\n",
      "   status: 0\n",
      "  success: True\n",
      "        t: array([0.00000000e+00, 1.42016636e-02, 1.56218300e-01, 1.46534293e+00,\n",
      "       3.30463452e+00, 5.49012015e+00, 8.32920731e+00, 1.14496758e+01,\n",
      "       1.45701443e+01, 1.76449222e+01, 2.06395417e+01, 2.36032033e+01,\n",
      "       2.50000000e+01])\n",
      " t_events: None\n",
      "        y: array([[  7000.        ,  13960.24492701,  79326.36974353,\n",
      "        409578.08334945, 446699.01195032, 319077.83026358,\n",
      "        165571.99129925,  71966.74863389,  29712.58392708,\n",
      "         12130.57394067,   5009.75291427,   2075.26330119,\n",
      "          1367.85128541]])\n",
      " y_events: None\n"
     ]
    },
    {
     "data": {
      "image/png": "[encoded data removed]",
      "text/plain": [
       "<Figure size 432x288 with 1 Axes>"
      ]
     },
     "metadata": {
      "needs_background": "light"
     },
     "output_type": "display_data"
    }
   ],
   "source": [
    "def dIdt(t, I):\n",
    "    return alpha*S_soln.sol(t) - beta*I\n",
    "\n",
    "I_soln = solve_ivp(dIdt, (t0, tf), [I0], dense_output=True)\n",
    "print(I_soln)\n",
    "\n",
    "t, I = I_soln.t, I_soln.y[0]\n",
    "I_inetrp, = I_soln.sol(t)\n",
    "\n",
    "# I -  зараженные индивиды (infected)\n",
    "plt.plot(t, I, 'o', color='r', label='I solve_ivp')\n",
    "plt.plot(t, I_inetrp, color='red', label='I interpolation')\n",
    "\n",
    "plt.legend()\n",
    "plt.show()"
   ]
  },
  {
   "cell_type": "markdown",
   "id": "0beeb168",
   "metadata": {},
   "source": [
    "методом наименших квадратов для набора данных графика функции I(t) получить уравнение вида I(t)=(I_0+\\alpha S_0t)e^{-\\alpha t}I(t)"
   ]
  },
  {
   "cell_type": "code",
   "execution_count": 15,
   "id": "50e6d6e7",
   "metadata": {
    "scrolled": true
   },
   "outputs": [
    {
     "data": {
      "text/plain": [
       "(array([0.00000000e+00, 1.42016636e-02, 1.56218300e-01, 1.46534293e+00,\n",
       "        3.30463452e+00, 5.49012015e+00, 8.32920731e+00, 1.14496758e+01,\n",
       "        1.45701443e+01, 1.76449222e+01, 2.06395417e+01, 2.36032033e+01,\n",
       "        2.50000000e+01]),\n",
       " array([  7000.        ,  13960.24492701,  79326.36974353, 409578.08334945,\n",
       "        446699.01195032, 319077.83026358, 165571.99129925,  71966.74863389,\n",
       "         29712.58392708,  12130.57394067,   5009.75291427,   2075.26330119,\n",
       "          1367.85128541]))"
      ]
     },
     "execution_count": 15,
     "metadata": {},
     "output_type": "execute_result"
    }
   ],
   "source": [
    "t, I"
   ]
  },
  {
   "cell_type": "code",
   "execution_count": 18,
   "id": "bd703610",
   "metadata": {},
   "outputs": [],
   "source": [
    "def I_func(t, S_koef, I_koef, alpha_koef):\n",
    "    return (I_koef + alpha_koef*S_koef*t)*np.exp((-1)*alpha_koef*t)\n",
    "\n",
    "def diff_I(p, I, t):\n",
    "    S_koef, I_koef, alpha_koef = p\n",
    "    return I - I_func(t, S_koef, I_koef, alpha_koef)"
   ]
  },
  {
   "cell_type": "code",
   "execution_count": 19,
   "id": "5318d89a",
   "metadata": {},
   "outputs": [
    {
     "data": {
      "text/plain": [
       "array([1.25281252e+06, 8.08519852e+03, 3.83762945e-01])"
      ]
     },
     "execution_count": 19,
     "metadata": {},
     "output_type": "execute_result"
    }
   ],
   "source": [
    "p0 = (980000, 7100, 0.49)\n",
    "aprx, _ = leastsq(diff_I, p0, args=(I, t))\n",
    "aprx"
   ]
  },
  {
   "cell_type": "code",
   "execution_count": 24,
   "id": "03fe9a7f",
   "metadata": {},
   "outputs": [
    {
     "data": {
      "text/plain": [
       "(array([1.25281252e+06, 8.08519845e+03, 3.83762945e-01]),\n",
       " array([[ 3.13025751e+07, -3.86109416e+06,  4.67865872e+00],\n",
       "        [-3.86109416e+06,  2.56030004e+06, -7.27639726e-01],\n",
       "        [ 4.67865872e+00, -7.27639726e-01,  3.36741576e-06]]))"
      ]
     },
     "execution_count": 24,
     "metadata": {},
     "output_type": "execute_result"
    }
   ],
   "source": [
    "# ту же задачу решаем с помощью функции curve_fit\n",
    "result = curve_fit(I_func, t, I, p0)\n",
    "result"
   ]
  },
  {
   "cell_type": "markdown",
   "id": "bdb84a44",
   "metadata": {},
   "source": [
    "ОТВЕТ\n",
    "\n",
    "I(t)= (8.08519852e+03 + 3.83762945e-01 * 1.25281252e+06 * t)*np.exp((-1)* 3.83762945e-01 *t)\n",
    "\n",
    "ПРОВЕРКА:"
   ]
  },
  {
   "cell_type": "code",
   "execution_count": 27,
   "id": "98724865",
   "metadata": {},
   "outputs": [],
   "source": [
    "It=(8.08519852e+03 + 3.83762945e-01 * 1.25281252e+06 * t)*np.exp((-1) * 3.83762945e-01 *t)"
   ]
  },
  {
   "cell_type": "code",
   "execution_count": 28,
   "id": "4b4d4bf6",
   "metadata": {},
   "outputs": [
    {
     "data": {
      "image/png": "[encoded data removed]",
      "text/plain": [
       "<Figure size 432x288 with 1 Axes>"
      ]
     },
     "metadata": {
      "needs_background": "light"
     },
     "output_type": "display_data"
    }
   ],
   "source": [
    "plt.plot(t, I, 'o', color='r', label='I solve_ivp')\n",
    "plt.plot(t, I_inetrp, color='red', label='I interpolation')\n",
    "plt.plot(t, It, color='green', label='I ideal')\n",
    "\n",
    "plt.legend()\n",
    "plt.show()"
   ]
  },
  {
   "cell_type": "markdown",
   "id": "af5f39c4",
   "metadata": {},
   "source": [
    "Построить все три графика S(t)S(t), I(t)I(t) и R(t)R(t) на одной области отображения полученные методом наименьших квадратов"
   ]
  },
  {
   "cell_type": "code",
   "execution_count": 30,
   "id": "4a73f62a",
   "metadata": {},
   "outputs": [
    {
     "data": {
      "image/png": "[encoded data removed]",
      "text/plain": [
       "<Figure size 432x288 with 1 Axes>"
      ]
     },
     "metadata": {
      "needs_background": "light"
     },
     "output_type": "display_data"
    }
   ],
   "source": [
    "time=np.linspace(0, 25, num=1000)\n",
    "def S_t(t):\n",
    "    return 9.89978640e+05 * np.exp(-4.99856001e-01 * t)\n",
    "def I_t(t):\n",
    "    return (8.08519852e+03 + 3.83762945e-01 * 1.25281252e+06 * t)*np.exp((-1) * 3.83762945e-01 *t)\n",
    "def R_t(t):\n",
    "    return N-S_t(t)-I_t(t)\n",
    "\n",
    "plt.plot(time, S_t(time), color='blue', label='S(t)')\n",
    "plt.plot(time, I_t(time), color='red', label='I(t)')\n",
    "plt.plot(time, R_t(time), color='green', label='R(t)')\n",
    "\n",
    "plt.legend()\n",
    "plt.show()"
   ]
  },
  {
   "cell_type": "markdown",
   "id": "b6268882",
   "metadata": {},
   "source": [
    "Найти время t_{max} при котором число инфекционных индивидов максимально. Надо с помощью метода minimize_scalar найти когда функция I(t) достигает своего максимума."
   ]
  },
  {
   "cell_type": "code",
   "execution_count": 39,
   "id": "09b21168",
   "metadata": {},
   "outputs": [
    {
     "data": {
      "text/plain": [
       "2.588958560012167"
      ]
     },
     "execution_count": 39,
     "metadata": {},
     "output_type": "execute_result"
    }
   ],
   "source": [
    "def I_t_conv(t):\n",
    "    return -I_t(t)\n",
    "result = minimize_scalar(I_t_conv, bounds=(0, 5))\n",
    "result.x"
   ]
  },
  {
   "cell_type": "markdown",
   "id": "b70e61c0",
   "metadata": {},
   "source": [
    "Найдем максимум функции I(t) где alpha=0.5, S0=990000, I0=7000"
   ]
  },
  {
   "cell_type": "code",
   "execution_count": 40,
   "id": "39b17e24",
   "metadata": {},
   "outputs": [
    {
     "data": {
      "text/plain": [
       "1.9858585752092015"
      ]
     },
     "execution_count": 40,
     "metadata": {},
     "output_type": "execute_result"
    }
   ],
   "source": [
    "def I_func(t, S_koef, I_koef, alpha_koef):\n",
    "    return (I_koef + alpha_koef*S_koef*t)*np.exp((-1)*alpha_koef*t)\n",
    "\n",
    "def I_t2_conv(t):\n",
    "    return -I_func(t, S0, I0, alpha)\n",
    "result = minimize_scalar(I_t2_conv, bounds=(0, 5))\n",
    "result.x"
   ]
  }
 ],
 "metadata": {
  "kernelspec": {
   "display_name": "Python 3 (ipykernel)",
   "language": "python",
   "name": "python3"
  },
  "language_info": {
   "codemirror_mode": {
    "name": "ipython",
    "version": 3
   },
   "file_extension": ".py",
   "mimetype": "text/x-python",
   "name": "python",
   "nbconvert_exporter": "python",
   "pygments_lexer": "ipython3",
   "version": "3.9.7"
  }
 },
 "nbformat": 4,
 "nbformat_minor": 5
}
